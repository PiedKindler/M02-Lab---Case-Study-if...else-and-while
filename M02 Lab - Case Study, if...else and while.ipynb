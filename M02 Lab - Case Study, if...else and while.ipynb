{
 "cells": [
  {
   "cell_type": "code",
   "execution_count": 9,
   "id": "63781fa4-4a5b-47b0-9bea-03353f2cb81b",
   "metadata": {},
   "outputs": [
    {
     "name": "stdin",
     "output_type": "stream",
     "text": [
      "Enter student's last name [type 'ZZZ' to quit]:  Smith\n",
      "Enter student's first name:  John\n",
      "Enter student's GPA:  3.0\n"
     ]
    },
    {
     "name": "stdout",
     "output_type": "stream",
     "text": [
      "\tI'm sorry. John Smith does not qualify for the Dean's List or the Honor Roll.\n"
     ]
    },
    {
     "name": "stdin",
     "output_type": "stream",
     "text": [
      "Enter student's last name [type 'ZZZ' to quit]:  Rurouni\n",
      "Enter student's first name:  Kenshin\n",
      "Enter student's GPA:  3.76\n"
     ]
    },
    {
     "name": "stdout",
     "output_type": "stream",
     "text": [
      "\tCongratulations! Kenshin Rurouni has made the Dean's List.\n"
     ]
    },
    {
     "name": "stdin",
     "output_type": "stream",
     "text": [
      "Enter student's last name [type 'ZZZ' to quit]:  Stampede\n",
      "Enter student's first name:  Vash the\n",
      "Enter student's GPA:  2.34\n"
     ]
    },
    {
     "name": "stdout",
     "output_type": "stream",
     "text": [
      "\tI'm sorry. Vash the Stampede does not qualify for the Dean's List or the Honor Roll.\n"
     ]
    },
    {
     "name": "stdin",
     "output_type": "stream",
     "text": [
      "Enter student's last name [type 'ZZZ' to quit]:  Fluffybottom\n",
      "Enter student's first name:  Princess\n",
      "Enter student's GPA:  3.276\n"
     ]
    },
    {
     "name": "stdout",
     "output_type": "stream",
     "text": [
      "\tCongratulations! Princess Fluffybottom has made the Honor Roll.\n"
     ]
    },
    {
     "name": "stdin",
     "output_type": "stream",
     "text": [
      "Enter student's last name [type 'ZZZ' to quit]:  Do'Urden\n",
      "Enter student's first name:  Drizzt\n",
      "Enter student's GPA:  3.487\n"
     ]
    },
    {
     "name": "stdout",
     "output_type": "stream",
     "text": [
      "\tCongratulations! Drizzt Do'Urden has made the Honor Roll.\n"
     ]
    },
    {
     "name": "stdin",
     "output_type": "stream",
     "text": [
      "Enter student's last name [type 'ZZZ' to quit]:  Nye\n",
      "Enter student's first name:  Bill\n",
      "Enter student's GPA:  4.987\n"
     ]
    },
    {
     "name": "stdout",
     "output_type": "stream",
     "text": [
      "\tCongratulations! Bill Nye has made the Dean's List.\n"
     ]
    },
    {
     "name": "stdin",
     "output_type": "stream",
     "text": [
      "Enter student's last name [type 'ZZZ' to quit]:  ZZZ\n"
     ]
    }
   ],
   "source": [
    "# (\"Misty Mayfield\")\n",
    "# (\"CO3937652\")\n",
    "# (\"SDEV220 Spring Software Development\")\n",
    "# (\"M02 Lab - Case Study, if...else and while\")\n",
    "# (\"1/29/23\")\n",
    "\n",
    "# Purpose: a Python app that will accept student names and GPAs and test if the student qualifies for either the Dean's List or the Honor Roll\n",
    "# Variables used:\n",
    "#   last_name: student last name\n",
    "#   first_name: student first name\n",
    "#   gpa: student GPA\n",
    "\n",
    "while True:\n",
    "    last_name = input(\"Enter student's last name [type 'ZZZ' to quit]: \")\n",
    "    if last_name == \"ZZZ\":\n",
    "        break\n",
    "    first_name = input(\"Enter student's first name: \")\n",
    "    gpa = input(\"Enter student's GPA: \")\n",
    "    if float(gpa) >= 3.5:\n",
    "        print(\"\\tCongratulations!\", first_name, last_name, \"has made the Dean's List.\")\n",
    "    elif float(gpa) >= 3.25:\n",
    "        print(\"\\tCongratulations!\", first_name, last_name, \"has made the Honor Roll.\")\n",
    "    else:\n",
    "        print(\"\\tI'm sorry.\", first_name, last_name, \"does not qualify for the Dean's List or the Honor Roll.\")"
   ]
  }
 ],
 "metadata": {
  "kernelspec": {
   "display_name": "Python 3 (ipykernel)",
   "language": "python",
   "name": "python3"
  },
  "language_info": {
   "codemirror_mode": {
    "name": "ipython",
    "version": 3
   },
   "file_extension": ".py",
   "mimetype": "text/x-python",
   "name": "python",
   "nbconvert_exporter": "python",
   "pygments_lexer": "ipython3",
   "version": "3.9.13"
  }
 },
 "nbformat": 4,
 "nbformat_minor": 5
}
